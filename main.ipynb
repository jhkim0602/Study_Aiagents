{
 "cells": [
  {
   "cell_type": "code",
   "execution_count": null,
   "id": "755cd0ba",
   "metadata": {},
   "outputs": [
    {
     "name": "stdout",
     "output_type": "stream",
     "text": [
      "안녕! 반가워. 어떻게 도와줄까? 질문이 있으면 물어봐줘. 공부나 코딩, 글쓰기, 번역, 정보 찾기 등 무엇이든 같이 도와줄게. 이야기하고 싶은 주제나 원하는 톤이 있으면 말해줘. 한국어로 편하게 대화해도 되고 영어로도 가능해.\n"
     ]
    }
   ],
   "source": [
    "import openai\n",
    "\n",
    "client = openai.OpenAI()\n",
    "\n",
    "response = client.chat.completions.create(\n",
    "    model=\"gpt-5-nano\",\n",
    "    messages=[\n",
    "        {\"role\": \"user\", \"content\": \"gpt야 반가워 안녕\"}\n",
    "    ]\n",
    ")\n",
    "\n",
    "print(response.choices[0].message.content)"
   ]
  }
 ],
 "metadata": {
  "kernelspec": {
   "display_name": "my-first-agent",
   "language": "python",
   "name": "python3"
  },
  "language_info": {
   "codemirror_mode": {
    "name": "ipython",
    "version": 3
   },
   "file_extension": ".py",
   "mimetype": "text/x-python",
   "name": "python",
   "nbconvert_exporter": "python",
   "pygments_lexer": "ipython3",
   "version": "3.13.7"
  }
 },
 "nbformat": 4,
 "nbformat_minor": 5
}
