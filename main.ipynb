{
 "cells": [
  {
   "cell_type": "code",
   "execution_count": 10,
   "id": "755cd0ba",
   "metadata": {},
   "outputs": [],
   "source": [
    "import openai\n",
    "\n",
    "client = openai.OpenAI()\n",
    "messages = []"
   ]
  },
  {
   "cell_type": "code",
   "execution_count": 11,
   "id": "37278956",
   "metadata": {},
   "outputs": [],
   "source": [
    "def call_ai():\n",
    "  response = client.chat.completions.create(\n",
    "    model=\"gpt-5-nano\",\n",
    "    messages=messages,\n",
    "  )\n",
    "  message = response.choices[0].message.content\n",
    "  messages.append({\"role\" : \"assistant\", \"content\" : message})\n",
    "  print(f\"AI : {message}\")\n"
   ]
  },
  {
   "cell_type": "code",
   "execution_count": 12,
   "id": "87530f38",
   "metadata": {},
   "outputs": [
    {
     "name": "stdout",
     "output_type": "stream",
     "text": [
      "User: 내이름은 john이야 반가워\n",
      "AI : 반가워요, John! 이름을 알려줘줘서 고마워요. John으로 불러도 될까요? 무엇을 도와드릴까요? 영어 공부, 한국어 연습, 코딩 문제 풀이, 정보 검색 등 어떤 것이든 말씀해 주세요.\n",
      "User: 내이름이...뭐..라고 했드라..?\n",
      "AI : 당신의 이름은 John이라고 했어요. John으로 불러드려도 될까요?\n"
     ]
    }
   ],
   "source": [
    "while True:\n",
    "  message = input(\"메시지를 LLM에 입력하세요.\")\n",
    "  if message == \"quit\" or message == \"q\":\n",
    "    break\n",
    "  else:\n",
    "    messages.append({\"role\" : \"user\", \"content\" : message})\n",
    "    print(f\"User: {message}\")\n",
    "    call_ai()"
   ]
  },
  {
   "cell_type": "code",
   "execution_count": null,
   "id": "35e18970",
   "metadata": {},
   "outputs": [],
   "source": []
  }
 ],
 "metadata": {
  "kernelspec": {
   "display_name": "my-first-agent",
   "language": "python",
   "name": "python3"
  },
  "language_info": {
   "codemirror_mode": {
    "name": "ipython",
    "version": 3
   },
   "file_extension": ".py",
   "mimetype": "text/x-python",
   "name": "python",
   "nbconvert_exporter": "python",
   "pygments_lexer": "ipython3",
   "version": "3.13.7"
  }
 },
 "nbformat": 4,
 "nbformat_minor": 5
}
